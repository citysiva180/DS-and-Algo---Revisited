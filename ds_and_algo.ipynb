{
 "cells": [
  {
   "cell_type": "markdown",
   "metadata": {},
   "source": [
    "## Datastructures and Algorithms Revisited"
   ]
  },
  {
   "cell_type": "markdown",
   "metadata": {},
   "source": [
    "In this course we will be looking at! \n",
    "\n",
    "- Big O Notations \n",
    "- Classes and Pointers \n",
    "- Linked List \n",
    "- Linked List Coding Exercise \n",
    "- Linked List Interview / Coding Exercises \n",
    "- Doubly Linked List \n",
    "- Doubly Linked List Coding Exercises \n",
    "- Doubly Linked List Interview / Coding Exercises \n",
    "- Stacks and Queues \n",
    "- Stacks and Queues Coding Exercises \n",
    "- Stacks and Queue Interview / Coding Exercises\n",
    "- Trees \n",
    "- Binary Search Tree - Coding Exercises \n",
    "- Binary Search Tree - Interview / Coding Exercises \n",
    "- Hash Tables \n",
    "- Hash Table: Coding Exercises \n",
    "- Hash Table INterview / Leet code Exercises \n",
    "- Graphs \n",
    "- Graph: Coding Exercises \n",
    "- Heaps \n",
    "- Heaps: Coding Exercises \n",
    "- Heap: Interview / Leet Code Exercises \n",
    "- Recursion \n",
    "- Recursive Binary Search Trees \n",
    "- Recursive Binary Search Tree Interview / Leet code Exercises \n",
    "- Tree Traversal \n",
    "- BST Traversal Coding Exercises \n",
    "- BST Traversal Leet Code Exercises \n",
    "- Basic Sorts\n",
    "- Basic Sorts Coding Exercises \n",
    "- Basic Sorts Interview and Leet Code Exercises \n",
    "- Merge Sort \n",
    "- Merge Sort Coding Exercises \n",
    "- Merge Sort Interview / Leet code Exercises \n",
    "- Quick Sort \n",
    "- Quick Sort Coding Exercises \n",
    "- Quick Sort Interview / Leet code Exercises \n",
    "- Dynamic Programming \n",
    "- Other Interview / Leet Code Exercises \n",
    "- Coding Exercises \n"
   ]
  },
  {
   "cell_type": "markdown",
   "metadata": {},
   "source": [
    "This course will involve in a holistic deep learning on all these algorithms with the help of Chatgpt / as well myself"
   ]
  },
  {
   "cell_type": "markdown",
   "metadata": {},
   "source": [
    "#### Section - 1 | Big-O-Notation in Depth"
   ]
  },
  {
   "cell_type": "markdown",
   "metadata": {},
   "source": [
    "- The comparison of 2 codes based on their *number of operations* is known as **time complexity**\n",
    "- The comparison of 2 codes based on their *memory usage* is known as **space complexity**"
   ]
  },
  {
   "cell_type": "markdown",
   "metadata": {},
   "source": [
    "**Greek Letters associated with Big O Notation**\n",
    "\n",
    "There are 3 greek letters associated in representing Big-O-Notation. They are \n",
    "- Omega : The Best case is denoted by Omega \n",
    "- Theta : The Average case is denoted by Theta \n",
    "- Omicron : The worst case is denoted by Omicron\n"
   ]
  },
  {
   "cell_type": "markdown",
   "metadata": {},
   "source": [
    "**Big O : O(n)**"
   ]
  },
  {
   "cell_type": "code",
   "execution_count": 2,
   "metadata": {},
   "outputs": [
    {
     "name": "stdout",
     "output_type": "stream",
     "text": [
      "0\n",
      "1\n",
      "2\n",
      "3\n",
      "4\n",
      "5\n",
      "6\n",
      "7\n",
      "8\n",
      "9\n"
     ]
    }
   ],
   "source": [
    "# Example code for Big-O-Notation : It ran for the N-Number of times\n",
    "def print_items(n):\n",
    "    for i in range(n):\n",
    "        print(i)\n",
    "        \n",
    "print_items(10)"
   ]
  },
  {
   "cell_type": "markdown",
   "metadata": {},
   "source": [
    "In this code, we could observe that the higher the N, the higher the number of operations. It is also noted that the number of operations depends on the N value which is why this measurement is O(n). On plotting the operations on a graph, we could observe that the O(n) is always a straight line. This also denotes that the O(n) algorithms are proportional meaning the higher the n value the higher the number of operations on the code. "
   ]
  },
  {
   "cell_type": "markdown",
   "metadata": {},
   "source": []
  },
  {
   "cell_type": "markdown",
   "metadata": {},
   "source": []
  },
  {
   "cell_type": "code",
   "execution_count": null,
   "metadata": {},
   "outputs": [],
   "source": []
  }
 ],
 "metadata": {
  "kernelspec": {
   "display_name": "Python 3",
   "language": "python",
   "name": "python3"
  },
  "language_info": {
   "codemirror_mode": {
    "name": "ipython",
    "version": 3
   },
   "file_extension": ".py",
   "mimetype": "text/x-python",
   "name": "python",
   "nbconvert_exporter": "python",
   "pygments_lexer": "ipython3",
   "version": "3.9.12"
  }
 },
 "nbformat": 4,
 "nbformat_minor": 2
}
