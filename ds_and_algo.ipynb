{
 "cells": [
  {
   "cell_type": "markdown",
   "metadata": {},
   "source": [
    "## Datastructures and Algorithms Revisited"
   ]
  },
  {
   "cell_type": "markdown",
   "metadata": {},
   "source": [
    "In this course we will be looking at! \n",
    "\n",
    "- Big O Notations \n",
    "- Classes and Pointers \n",
    "- Linked List \n",
    "- Linked List Coding Exercise \n",
    "- Linked List Interview / Coding Exercises \n",
    "- Doubly Linked List \n",
    "- Doubly Linked List Coding Exercises \n",
    "- Doubly Linked List Interview / Coding Exercises \n",
    "- Stacks and Queues \n",
    "- Stacks and Queues Coding Exercises \n",
    "- Stacks and Queue Interview / Coding Exercises\n",
    "- Trees \n",
    "- Binary Search Tree - Coding Exercises \n",
    "- Binary Search Tree - Interview / Coding Exercises \n",
    "- Hash Tables \n",
    "- Hash Table: Coding Exercises \n",
    "- Hash Table INterview / Leet code Exercises \n",
    "- Graphs \n",
    "- Graph: Coding Exercises \n",
    "- Heaps \n",
    "- Heaps: Coding Exercises \n",
    "- Heap: Interview / Leet Code Exercises \n",
    "- Recursion \n",
    "- Recursive Binary Search Trees \n",
    "- Recursive Binary Search Tree Interview / Leet code Exercises \n",
    "- Tree Traversal \n",
    "- BST Traversal Coding Exercises \n",
    "- BST Traversal Leet Code Exercises \n",
    "- Basic Sorts\n",
    "- Basic Sorts Coding Exercises \n",
    "- Basic Sorts Interview and Leet Code Exercises \n",
    "- Merge Sort \n",
    "- Merge Sort Coding Exercises \n",
    "- Merge Sort Interview / Leet code Exercises \n",
    "- Quick Sort \n",
    "- Quick Sort Coding Exercises \n",
    "- Quick Sort Interview / Leet code Exercises \n",
    "- Dynamic Programming \n",
    "- Other Interview / Leet Code Exercises \n",
    "- Coding Exercises \n"
   ]
  },
  {
   "cell_type": "markdown",
   "metadata": {},
   "source": [
    "This course will involve in a holistic deep learning on all these algorithms with the help of Chatgpt / as well myself"
   ]
  },
  {
   "cell_type": "markdown",
   "metadata": {},
   "source": [
    "#### Section - 1 | Big-O-Notation in Depth"
   ]
  },
  {
   "cell_type": "markdown",
   "metadata": {},
   "source": [
    "- The comparison of 2 codes based on their *number of operations* is known as **time complexity**\n",
    "- The comparison of 2 codes based on their *memory usage* is known as **space complexity**"
   ]
  },
  {
   "cell_type": "markdown",
   "metadata": {},
   "source": [
    "**Greek Letters associated with Big O Notation**\n",
    "\n",
    "There are 3 greek letters associated in representing Big-O-Notation. They are \n",
    "- Omega : The Best case is denoted by Omega \n",
    "- Theta : The Average case is denoted by Theta \n",
    "- Omicron : The worst case is denoted by Omicron\n"
   ]
  },
  {
   "cell_type": "markdown",
   "metadata": {},
   "source": [
    "**Big O : O(n)**"
   ]
  },
  {
   "cell_type": "code",
   "execution_count": 1,
   "metadata": {},
   "outputs": [
    {
     "name": "stdout",
     "output_type": "stream",
     "text": [
      "0\n",
      "1\n",
      "2\n",
      "3\n",
      "4\n",
      "5\n",
      "6\n",
      "7\n",
      "8\n",
      "9\n"
     ]
    }
   ],
   "source": [
    "# Example code for Big-O-Notation : It ran for the N-Number of times\n",
    "def print_items(n):\n",
    "    for i in range(n):\n",
    "        print(i)\n",
    "        \n",
    "print_items(10)"
   ]
  },
  {
   "cell_type": "markdown",
   "metadata": {},
   "source": [
    "In this code, we could observe that the higher the N, the higher the number of operations. It is also noted that the number of operations depends on the N value which is why this measurement is O(n). On plotting the operations on a graph, we could observe that the O(n) is always a straight line. This also denotes that the O(n) algorithms are proportional meaning the higher the n value the higher the number of operations on the code. "
   ]
  },
  {
   "cell_type": "markdown",
   "metadata": {},
   "source": [
    "**First Rule of Simplification : Drop constants**"
   ]
  },
  {
   "cell_type": "code",
   "execution_count": 2,
   "metadata": {},
   "outputs": [
    {
     "name": "stdout",
     "output_type": "stream",
     "text": [
      "0\n",
      "1\n",
      "2\n",
      "3\n",
      "4\n",
      "5\n",
      "6\n",
      "7\n",
      "8\n",
      "9\n",
      "0\n",
      "1\n",
      "2\n",
      "3\n",
      "4\n",
      "5\n",
      "6\n",
      "7\n",
      "8\n",
      "9\n"
     ]
    }
   ],
   "source": [
    "# drop the constants!\n",
    "\n",
    "def print_items(n):\n",
    "    \n",
    "    for i in range(n):\n",
    "        print(i)\n",
    "        \n",
    "    for j in range(n):\n",
    "        print(j)\n",
    "        \n",
    "print_items(10)"
   ]
  },
  {
   "cell_type": "markdown",
   "metadata": {},
   "source": [
    "In the below code, even though we have 2 for loops, we are still dealing with O(n)\n",
    "of operations. Hence it will not be represented as O(2n) but O(n)"
   ]
  },
  {
   "cell_type": "markdown",
   "metadata": {},
   "source": [
    "**Big O: O(n^2)**"
   ]
  },
  {
   "cell_type": "code",
   "execution_count": 3,
   "metadata": {},
   "outputs": [
    {
     "name": "stdout",
     "output_type": "stream",
     "text": [
      "0 0\n",
      "0 1\n",
      "0 2\n",
      "1 0\n",
      "1 1\n",
      "1 2\n",
      "2 0\n",
      "2 1\n",
      "2 2\n"
     ]
    }
   ],
   "source": [
    "def print_items(n):\n",
    "    for i in range(n):\n",
    "        for j in range(n):\n",
    "            print(i, j)\n",
    "\n",
    "print_items(3)"
   ]
  },
  {
   "cell_type": "markdown",
   "metadata": {},
   "source": [
    "In the above code, it is observed that for every run of i there is range(n) times for the run of j. Which is in-efficient in terms of operations. This would mean that the code will run for a higher time if the number of operations is high. This will denote a steep curved line that increases in operation which is mostly not preferred in coding and development of applications. This operation is known as O(n^2) since for every single operation there is a operation squared operation which is performed. "
   ]
  },
  {
   "cell_type": "markdown",
   "metadata": {},
   "source": [
    "**Second Rule of Simplification : Drop Non-Dominants**"
   ]
  },
  {
   "cell_type": "code",
   "execution_count": 4,
   "metadata": {},
   "outputs": [
    {
     "name": "stdout",
     "output_type": "stream",
     "text": [
      "0 0\n",
      "0 1\n",
      "0 2\n",
      "1 0\n",
      "1 1\n",
      "1 2\n",
      "2 0\n",
      "2 1\n",
      "2 2\n",
      "0\n",
      "1\n",
      "2\n"
     ]
    }
   ],
   "source": [
    "def print_items(n):\n",
    "    for i in range(n):\n",
    "        for j in range(n):\n",
    "            print(i, j)\n",
    "    \n",
    "    for k in range(n):\n",
    "        print(k)\n",
    "\n",
    "print_items(3)"
   ]
  },
  {
   "cell_type": "markdown",
   "metadata": {},
   "source": [
    "In the above code we have 2 sections \n",
    "\n",
    "- Section 1 : *O(n^2)* powered nested for loops \n",
    "- Section 2 : *O(n)* powered single for loop \n",
    "\n",
    "On combining both cases we should be getting *O(n^2 + n)*. But the n here is very finite and insignificant when compared with *O(n^2)*. Hence it will not be considered. So the algorithm is still denoted as *O(n^2)* and not *O(n^2 + n)*. This is known as dropping the Non-Dominants where *O(n)* is Non-Dominant\n"
   ]
  },
  {
   "cell_type": "markdown",
   "metadata": {},
   "source": [
    "**Big O: O(1)**"
   ]
  },
  {
   "cell_type": "code",
   "execution_count": 5,
   "metadata": {},
   "outputs": [
    {
     "data": {
      "text/plain": [
       "20000000000000"
      ]
     },
     "execution_count": 5,
     "metadata": {},
     "output_type": "execute_result"
    }
   ],
   "source": [
    "def add_items(n):\n",
    "    return n+n\n",
    "\n",
    "\n",
    "add_items(2)\n",
    "add_items(10000000000000)"
   ]
  },
  {
   "cell_type": "markdown",
   "metadata": {},
   "source": [
    "In the above code we could understand that irrespective to N-Value the operation is always going to 1. Where n is getting added with n and there is no further runs or loops doing the same. This is known as *O(1)* or constant time. Constant time is taken as one of the best operation. \n",
    "When plotting *O(1)* on a graph, it becomes a line which is flat on x-axis. This indicates that number of operation remains the same even through the n value is high."
   ]
  },
  {
   "cell_type": "markdown",
   "metadata": {},
   "source": [
    "**Big O: O(log n)**"
   ]
  },
  {
   "cell_type": "markdown",
   "metadata": {},
   "source": [
    "Lets consider a list with 100 items. Now we are searching for the number 46. We obviously know that 46 is before 50, considering the list is sorted. Hence we remove the numbers or split the list in 2 and consider only the first half, since 46 lies in the first half. We Again split the 50 elements list to 2 in which the 2nd half consists of 46. Again we split the list to 2 and have 13 in the second half and again we have around 6 elements in which we split to have 3 elements by which we could iterate and get it found. This is known as *O(log n)* where the number of operations becomes half of what we already have. This might be the best case of searching elements in a list"
   ]
  },
  {
   "cell_type": "markdown",
   "metadata": {},
   "source": [
    "**Big O: O(n log n):**"
   ]
  },
  {
   "cell_type": "markdown",
   "metadata": {},
   "source": [
    "The *O(n log n)* is a uncommonly used notation which comes in certain sorting algorithms. This is the most efficient you could make in an sorting algorithms as sorting algorithms mostly deals with higher operations"
   ]
  },
  {
   "cell_type": "markdown",
   "metadata": {},
   "source": [
    "**Different Terms of Input**:\n",
    "\n",
    "In a scenario where 2 parameters come into picture which affects the number of operations in a code, then your notation will depend on those parameters to give you the final notation. Consider the below code "
   ]
  },
  {
   "cell_type": "code",
   "execution_count": 6,
   "metadata": {},
   "outputs": [
    {
     "name": "stdout",
     "output_type": "stream",
     "text": [
      "0\n",
      "1\n",
      "0\n",
      "1\n",
      "2\n"
     ]
    }
   ],
   "source": [
    "def run_operations(a,b):\n",
    "    \n",
    "    for i in range(a):\n",
    "        print(i)\n",
    "    \n",
    "    for j in range(b):\n",
    "        print(j)\n",
    "        \n",
    "run_operations(2,3)"
   ]
  },
  {
   "cell_type": "markdown",
   "metadata": {},
   "source": [
    "In the above code though we have 2 for loops, they dont become O(2n) Since its not confirm a = b. Incase if they are the same, we can say there is 2(n) operations happening. since a and b affect the number of operations and they might not be the same, the notation becomes *O(a+b)*. THis is known as **Different terms of Input**"
   ]
  },
  {
   "cell_type": "markdown",
   "metadata": {},
   "source": [
    "**Considering the Big-O measurements for an operations in List**"
   ]
  },
  {
   "cell_type": "markdown",
   "metadata": {},
   "source": [
    "For a list of N-Elements \n",
    "- `list_1.append()` - Adding Elements to the end of the List is O(1). Since its a single operation which does not affect the indexing of a list. \n",
    "- `list_1.pop()` - Removing Elements to the end of the list is also O(1). Since its a single operation which does not affect the indexing of a list \n",
    "- `list_1.prepend()` - Adding Elements at the start of the list will be O(n) since the list has to re-index the elements to have the next index value for the list elements \n",
    "- `list_1.pop_first()` - Removing elements at the start of the list will also be O(n) since the list has to re-index the elements to have the previous index value for the list elements\n",
    "\n",
    "Hence these are the list Big-O-Notations"
   ]
  },
  {
   "cell_type": "markdown",
   "metadata": {},
   "source": [
    "**Wrap - Up**\n",
    "- *O(n^2) :* Loop within loop \n",
    "- *O(n):* proportional \n",
    "- *O(log n):* Divide and Conquer\n",
    "- *O(1):* Constant time "
   ]
  },
  {
   "cell_type": "markdown",
   "metadata": {},
   "source": [
    "#### Classes and Pointers!"
   ]
  },
  {
   "cell_type": "markdown",
   "metadata": {},
   "source": [
    "Class is known to be a cookie cutter of a code. "
   ]
  },
  {
   "cell_type": "code",
   "execution_count": 7,
   "metadata": {},
   "outputs": [],
   "source": [
    "class Cookie:\n",
    "    def __init__(self, color): # if it has self, then its a method! \n",
    "        self.color = color \n",
    "    \n",
    "    def get_color(self): # Getter\n",
    "        return self.color\n",
    "    \n",
    "    def set_color(self, color): # Setter\n",
    "        self.color = color \n",
    "        \n",
    "    \n",
    "cookie_one = Cookie('green')\n",
    "cookie_two = Cookie('blue')\n",
    "cookie_one.set_color(\"Yellow\")\n"
   ]
  },
  {
   "cell_type": "markdown",
   "metadata": {},
   "source": [
    "In a typical data structure class \n",
    "- A constructor \n",
    "- An Append \n",
    "- A Pop \n",
    "- A Prepend \n",
    "- An Insert \n",
    "- A Remove "
   ]
  },
  {
   "cell_type": "markdown",
   "metadata": {},
   "source": [
    "**Pointers**"
   ]
  },
  {
   "cell_type": "code",
   "execution_count": 8,
   "metadata": {},
   "outputs": [
    {
     "name": "stdout",
     "output_type": "stream",
     "text": [
      "140451067914864\n",
      "140451067914864\n"
     ]
    }
   ],
   "source": [
    "num_1 = 11\n",
    "num_2 = num_1\n",
    "\n",
    "print(id(num_1))\n",
    "print(id(num_2))"
   ]
  },
  {
   "cell_type": "code",
   "execution_count": 9,
   "metadata": {},
   "outputs": [
    {
     "name": "stdout",
     "output_type": "stream",
     "text": [
      "140451067914864\n",
      "140451067915216\n"
     ]
    }
   ],
   "source": [
    "num_1 = 11\n",
    "num_2 = 22\n",
    "\n",
    "print(id(num_1))\n",
    "print(id(num_2))"
   ]
  },
  {
   "cell_type": "markdown",
   "metadata": {},
   "source": [
    "### LinkedList!"
   ]
  },
  {
   "cell_type": "markdown",
   "metadata": {},
   "source": [
    "1. Insertion (Push)\n",
    "- At the Beginning (Head):\n",
    "    - O(1) (constant time) because we simply create a new node and update the head pointer to point to the new node.\n",
    "-  At the End (Tail):\n",
    "    -   O(n) (linear time) because we need to traverse the entire list to find the last node before adding the new node.\n",
    "    -   O(1) if a reference to the tail is maintained.\n",
    "-   At a Specific Position:\n",
    "    - O(n) to traverse the list and find the desired position.\n",
    "\n",
    "2. Deletion (Pop/Remove)\n",
    "- At the Beginning (Head):\n",
    "    - O(1) because we only need to update the head pointer to the second node.\n",
    "- At the End (Tail):\n",
    "    - O(n) because we must traverse the list to find the second-to-last node to update its next pointer to None.\n",
    "- At a Specific Position:\n",
    "    - O(n) because we need to traverse the list to find the node before the one we want to delete.\n",
    "\n",
    "3. Search\n",
    "- O(n) (linear time) because we may need to traverse the entire list to find the desired node.\n",
    "\n",
    "4. Access\n",
    "- O(n) because random access isn’t possible in a linked list. You must traverse the list sequentially to reach a specific node.\n",
    "\n",
    "5. Traversal\n",
    "- O(n) since you must visit each node one by one."
   ]
  },
  {
   "cell_type": "code",
   "execution_count": 10,
   "metadata": {},
   "outputs": [
    {
     "data": {
      "text/plain": [
       "{'first_value': 11,\n",
       " 'next_value': {'second_value': 23,\n",
       "  'next_value': {'third_value': 22,\n",
       "   'next_value': {'fourth_value': 24, 'next_value': None}}}}"
      ]
     },
     "execution_count": 10,
     "metadata": {},
     "output_type": "execute_result"
    }
   ],
   "source": [
    "# So the real linked list would look something like this \n",
    "{\n",
    "    \"first_value\": 11,\n",
    "    \"next_value\": {\n",
    "        \"second_value\":23,\n",
    "        \"next_value\":{\n",
    "            \"third_value\":22,\n",
    "            \"next_value\":{\n",
    "                \"fourth_value\":24,\n",
    "                \"next_value\":None\n",
    "            }\n",
    "        }\n",
    "    }\n",
    "}"
   ]
  },
  {
   "cell_type": "markdown",
   "metadata": {},
   "source": [
    "LinkedList - Full Code"
   ]
  },
  {
   "cell_type": "code",
   "execution_count": 14,
   "metadata": {},
   "outputs": [
    {
     "name": "stdout",
     "output_type": "stream",
     "text": [
      "23\n",
      "4\n",
      "5\n",
      "6\n",
      "None\n"
     ]
    }
   ],
   "source": [
    "class Node:\n",
    "    def __init__(self,value):\n",
    "        \n",
    "        self.value = value \n",
    "        self.next = None\n",
    "        \n",
    "class LinkedList:\n",
    "    \n",
    "    def __init__(self, value):\n",
    "        \n",
    "        new_node = Node(value)\n",
    "        self.head = new_node \n",
    "        self.tail = new_node \n",
    "        self.length = 1 \n",
    "    \n",
    "    # Printing items in the list\n",
    "    def print_list(self):\n",
    "        \n",
    "        temp = self.head \n",
    "        while temp is not None:\n",
    "            print(temp.value)\n",
    "            temp = temp.next\n",
    "            \n",
    "            \n",
    "            \n",
    "    # Adding values to the list!\n",
    "    def append_items(self, value):\n",
    "        \n",
    "        new_node = Node(value)\n",
    "        \n",
    "        if self.head is None:  \n",
    "            self.head = new_node \n",
    "            self.tail = new_node \n",
    "        else: \n",
    "            self.tail.next = new_node \n",
    "            self.tail = new_node\n",
    "        \n",
    "        self.length += 1\n",
    "        return True \n",
    "    \n",
    "    # delete value in the list! \n",
    "    def pop_items(self):\n",
    "        \n",
    "        # If the list empty \n",
    "        if self.length == 0:\n",
    "            return None \n",
    "        \n",
    "        # Keep 2 variables, temp and pre - temp means the current node and pre means the previous node\n",
    "        temp = self.head \n",
    "        pre =self.head\n",
    "        \n",
    "        # If 2 or more items in the list | Iterate through the list \n",
    "        while(temp.next is not None):\n",
    "            pre = temp \n",
    "            temp = temp.next \n",
    "        # Re-assign values to the node to remove node \n",
    "        self.tail = pre \n",
    "        self.tail.next = None \n",
    "        self.length -= 1 \n",
    "       \n",
    "       # If no values in the node, then assign these values below \n",
    "        if self.length == 0:\n",
    "            self.head = None \n",
    "            self.tail = None \n",
    "            \n",
    "        return temp\n",
    "\n",
    "    # Added Prepend on code!\n",
    "    def prepend_items(self,value):\n",
    "        new_node  = Node(value)\n",
    "        \n",
    "        if self.length == 0:\n",
    "            self.head = new_node\n",
    "            self.tail = new_node\n",
    "        else: \n",
    "            new_node.next = self.head\n",
    "            self.head = new_node\n",
    "        self.length += 1\n",
    "        return True\n",
    "    \n",
    "    def pop_first(self):\n",
    "        if self.length == 0:\n",
    "            return None \n",
    "        temp = self.head \n",
    "        self.head = self.head.next\n",
    "        temp.next = None\n",
    "        self.length -= 1\n",
    "        if self.length == 0: \n",
    "            self.tail = None \n",
    "        return temp \n",
    "        \n",
    "            \n",
    "        \n",
    "        \n",
    "        \n",
    "        \n",
    "        \n",
    "        \n",
    "my_linked_list = LinkedList(4)\n",
    "my_linked_list.append_items(5)\n",
    "my_linked_list.append_items(6)\n",
    "my_linked_list.append_items(7)\n",
    "my_linked_list.append_items(8)\n",
    "my_linked_list.append_items(9)\n",
    "my_linked_list.append_items(1)\n",
    "my_linked_list.pop_items()\n",
    "my_linked_list.pop_items()\n",
    "my_linked_list.pop_items()\n",
    "my_linked_list.pop_items()\n",
    "\n",
    "my_linked_list.prepend_items(23)\n",
    "\n",
    "\n",
    "print(my_linked_list.print_list())"
   ]
  },
  {
   "cell_type": "code",
   "execution_count": null,
   "metadata": {},
   "outputs": [
    {
     "name": "stdout",
     "output_type": "stream",
     "text": [
      "23\n",
      "4\n",
      "5\n",
      "None\n"
     ]
    }
   ],
   "source": [
    "class Node:\n",
    "\n",
    "    def __init__(self, value):\n",
    "        self.value = value\n",
    "        self.next = None\n",
    "\n",
    "\n",
    "class LinkedList:\n",
    "\n",
    "    def __init__(self, value): # how did you miss this??? \n",
    "        new_node = Node(value)\n",
    "        self.head = new_node\n",
    "        self.tail = new_node\n",
    "        self.length = 1\n",
    "\n",
    "    def print_list(self):\n",
    "        if self.head is None:\n",
    "            return None\n",
    "        else:\n",
    "            temp = self.head\n",
    "            while temp.next is not None:\n",
    "                print(temp.value)\n",
    "                temp = temp.next\n",
    "\n",
    "    def append_items(self, value):\n",
    "        new_node = Node(value)\n",
    "        if self.head is None:\n",
    "            self.head = new_node\n",
    "            self.tail = new_node\n",
    "        else:\n",
    "            self.tail.next = new_node\n",
    "            self.tail = new_node\n",
    "        self.length += 1\n",
    "        return True\n",
    "\n",
    "    def pop_items(self):\n",
    "\n",
    "        if self.head is None:\n",
    "            return None\n",
    "\n",
    "        pre, temp = self.head, self.head\n",
    "\n",
    "        while temp.next is not None:\n",
    "            pre, temp = temp, temp.next\n",
    "\n",
    "        self.tail = pre\n",
    "        self.tail.next = None  # possible error\n",
    "        self.length -= 1\n",
    "\n",
    "        if self.length == 0:\n",
    "            self.head = None\n",
    "            self.tail = None\n",
    "\n",
    "        return True\n",
    "\n",
    "    def prepend_items(self, value):\n",
    "        new_node = Node(value)\n",
    "        if self.head is None:\n",
    "            self.head = new_node\n",
    "            self.tail = new_node\n",
    "        else:\n",
    "            new_node.next = self.head\n",
    "            self.head = new_node\n",
    "        self.length += 1\n",
    "        return True\n",
    "\n",
    "    def pop_first(self, value):\n",
    "        if self.head is None:\n",
    "            return None\n",
    "\n",
    "        temp, self.head = self.head, self.head.next  # last time this was the issue! \n",
    "        temp.next = None\n",
    "        self.length -= 1\n",
    "\n",
    "        self.tail = None if self.length == 0 else self.tail\n",
    "        return True\n",
    "    \n",
    "    def get(self,index):\n",
    "        if index not in range(self.length):\n",
    "            return None \n",
    "        \n",
    "        temp = self.head \n",
    "        for _ in range(index):\n",
    "            temp = temp.next\n",
    "        return temp \n",
    "    \n",
    "    \n",
    "    \n",
    "    \n",
    "\n",
    "my_linked_list = LinkedList(4)\n",
    "my_linked_list.append_items(5)\n",
    "my_linked_list.append_items(6)\n",
    "my_linked_list.append_items(7)\n",
    "my_linked_list.append_items(8)\n",
    "my_linked_list.append_items(9)\n",
    "my_linked_list.append_items(1)\n",
    "my_linked_list.pop_items()\n",
    "my_linked_list.pop_items()\n",
    "my_linked_list.pop_items()\n",
    "my_linked_list.pop_items()\n",
    "\n",
    "my_linked_list.prepend_items(23)\n",
    "\n",
    "\n",
    "print(my_linked_list.print_list())\n"
   ]
  },
  {
   "cell_type": "code",
   "execution_count": null,
   "metadata": {},
   "outputs": [],
   "source": []
  }
 ],
 "metadata": {
  "kernelspec": {
   "display_name": "Python 3",
   "language": "python",
   "name": "python3"
  },
  "language_info": {
   "codemirror_mode": {
    "name": "ipython",
    "version": 3
   },
   "file_extension": ".py",
   "mimetype": "text/x-python",
   "name": "python",
   "nbconvert_exporter": "python",
   "pygments_lexer": "ipython3",
   "version": "3.9.12"
  }
 },
 "nbformat": 4,
 "nbformat_minor": 2
}
